{
 "cells": [
  {
   "cell_type": "markdown",
   "metadata": {},
   "source": [
    "\n"
   ]
  },
  {
   "cell_type": "code",
   "execution_count": 27,
   "metadata": {},
   "outputs": [],
   "source": [
    "import numpy as np\n",
    "def normalize_comparation(M):\n",
    "    \"\"\"Function for normalizing the pairwise comparison matrix\"\"\"\n",
    "    # sum the elements within the same column\n",
    "    sumCol = M.sum(axis = 0) # axis 0 = kolom, 1 = baris\n",
    "    norm = M / sumCol\n",
    "    return norm\n",
    "\n",
    "\n",
    "def weight(M):\n",
    "    \"\"\"Function for calculating the weight of the criteria or\n",
    "    alternatives\"\"\"\n",
    "    # calculate the average value of each row\n",
    "    return np.mean(M, axis=1)\n",
    "\n",
    "\n",
    "def validity_check(M,W):\n",
    "    \"\"\"Function for checking the validity of the weights\"\"\"\n",
    "    n = len(M)\n",
    "    RI = {\n",
    "    2: 0.00, 3: 0.58, 4: 0.90, 5: 1.12, 6: 1.24, 7: 1.32, 8: 1.41, 9:\n",
    "    1.45,10: 1.51, 11: 1.53, 12: 1.54, 13: 1.56, 14: 1.57\n",
    "    }   \n",
    "    # calculate CV\n",
    "    CV = M @ W / W # @ operator perform matrix multiplication according to the mathematical rules\n",
    "    print(f\"CV: {CV}\\n\")\n",
    "    # calculate eigenvalue\n",
    "    eigen = np.mean(CV)\n",
    "    print(f\"Eigen: {eigen}\\n\")\n",
    "    # find RI value\n",
    "    print(f\"RI: {RI[n]}\\n\")\n",
    "    # calculate CI\n",
    "    CI = (eigen - n) / (n - 1)\n",
    "    print(f\"CI: {CI}\\n\")\n",
    "    # calculate CR\n",
    "    CR = CI / RI[n]\n",
    "    print(f\"CR: {CR}\\n\")\n",
    "    if CR <= 0.1:\n",
    "        print(\"Weight is valid!\\n\")\n",
    "    else:\n",
    "        print(\"Weight is invalid!\\n\")\n",
    "\n",
    "def final_weight(W_alt, W_crit):\n",
    "    \"\"\"Function for calculating the final weight of the alternatives\"\"\"\n",
    "    # multiplies the alternative weights with the criteria weights according to the mathematical rules\n",
    "    W_fin = W_alt.T @ W_crit\n",
    "    return W_fin\n"
   ]
  },
  {
   "cell_type": "code",
   "execution_count": 28,
   "metadata": {},
   "outputs": [
    {
     "name": "stdout",
     "output_type": "stream",
     "text": [
      "=== Criteria ===\n",
      "Pairwise comparison matrix: \n",
      " [[1.         0.5        3.        ]\n",
      " [2.         1.         4.        ]\n",
      " [0.33333333 0.25       1.        ]]\n",
      "\n",
      "Normalized pairwise comparison matrix: \n",
      " [[0.3        0.28571429 0.375     ]\n",
      " [0.6        0.57142857 0.5       ]\n",
      " [0.1        0.14285714 0.125     ]]\n",
      "\n",
      "Criteria weight: \n",
      " [0.3202381  0.55714286 0.12261905]\n",
      "\n",
      "CV: [3.01858736 3.02991453 3.00647249]\n",
      "\n",
      "Eigen: 3.01832479413957\n",
      "\n",
      "RI: 0.58\n",
      "\n",
      "CI: 0.009162397069784944\n",
      "\n",
      "CR: 0.015797236327215424\n",
      "\n",
      "Weight is valid!\n",
      "\n"
     ]
    }
   ],
   "source": [
    "# alternatives\n",
    "A = [\"Yamaha\",\"Honda\",\"Suzuki\",\"Kawasaki\"]\n",
    "print(\"=== Criteria ===\")\n",
    "# pairwise comparison matrix of the criteria\n",
    "# order: style, reliability, fuel economy\n",
    "PCMc = np.array([\n",
    "[1, 1/2, 3],\n",
    "[2, 1, 4],\n",
    "[1/3, 1/4, 1]\n",
    "])\n",
    "\n",
    "print(f\"Pairwise comparison matrix: \\n {PCMc}\\n\")\n",
    "# normalization\n",
    "PCMc_norm = normalize_comparation(PCMc)\n",
    "print(f\"Normalized pairwise comparison matrix: \\n {PCMc_norm}\\n\")\n",
    "# calculate weight\n",
    "Wc = weight(PCMc_norm)\n",
    "print(f\"Criteria weight: \\n {Wc}\\n\")\n",
    "# check weight validity\n",
    "validity_check(PCMc,Wc)"
   ]
  },
  {
   "cell_type": "code",
   "execution_count": 29,
   "metadata": {},
   "outputs": [
    {
     "name": "stdout",
     "output_type": "stream",
     "text": [
      "=== Style ===\n",
      "Pairwise comparison matrix: [[1.         0.5        2.         0.33333333]\n",
      " [2.         1.         3.         0.5       ]\n",
      " [0.5        0.33333333 1.         0.25      ]\n",
      " [3.         2.         4.         1.        ]]\n",
      "\n",
      "Normalized pairwise comparison matrix: [[0.15384615 0.13043478 0.2        0.16      ]\n",
      " [0.30769231 0.26086957 0.3        0.24      ]\n",
      " [0.07692308 0.08695652 0.1        0.12      ]\n",
      " [0.46153846 0.52173913 0.4        0.48      ]]\n",
      "\n",
      "Weight: [0.16107023 0.27714047 0.0959699  0.4658194 ]\n",
      "\n",
      "CV: [4.01597107 4.04163398 4.01521752 4.05133544]\n",
      "\n",
      "Eigen: 4.03103950215422\n",
      "\n",
      "RI: 0.9\n",
      "\n",
      "CI: 0.010346500718073415\n",
      "\n",
      "CR: 0.011496111908970461\n",
      "\n",
      "Weight is valid!\n",
      "\n"
     ]
    }
   ],
   "source": [
    "print(\"=== Style ===\")\n",
    "# pairwise comparison matrix of style for each alternative\n",
    "# order: yamaha, honda, suzuki, kawasaki\n",
    "PCMs= np.array([\n",
    "[1, 1/2, 2, 1/3],\n",
    "[2, 1, 3, 1/2],\n",
    "[1/2, 1/3, 1, 1/4],\n",
    "[3, 2, 4, 1]\n",
    "])\n",
    "print(f\"Pairwise comparison matrix: {PCMs}\\n\")\n",
    "# normalization\n",
    "PCMs_norm = normalize_comparation(PCMs)\n",
    "print(f\"Normalized pairwise comparison matrix: {PCMs_norm}\\n\")\n",
    "# calculate weight\n",
    "Ws = weight(PCMs_norm)\n",
    "print(f\"Weight: {Ws}\\n\")\n",
    "# check weight validity\n",
    "validity_check(PCMs,Ws)"
   ]
  },
  {
   "cell_type": "code",
   "execution_count": 30,
   "metadata": {},
   "outputs": [
    {
     "name": "stdout",
     "output_type": "stream",
     "text": [
      "=== Reliability ===\n",
      "Pairwise comparison matrix: \n",
      " [[1.         0.5        3.         2.        ]\n",
      " [2.         1.         4.         3.        ]\n",
      " [0.33333333 0.25       1.         0.5       ]\n",
      " [0.5        0.33333333 2.         1.        ]]\n",
      "\n",
      "Normalized pairwise comparison matrix: \n",
      " [[0.26086957 0.24       0.3        0.30769231]\n",
      " [0.52173913 0.48       0.4        0.46153846]\n",
      " [0.08695652 0.12       0.1        0.07692308]\n",
      " [0.13043478 0.16       0.2        0.15384615]]\n",
      "\n",
      "Weight: [0.27714047 0.4658194  0.0959699  0.16107023]\n",
      "\n",
      "CV: [4.04163398 4.05133544 4.01521752 4.01597107]\n",
      "\n",
      "Eigen: 4.03103950215422\n",
      "\n",
      "RI: 0.9\n",
      "\n",
      "CI: 0.010346500718073415\n",
      "\n",
      "CR: 0.011496111908970461\n",
      "\n",
      "Weight is valid!\n",
      "\n"
     ]
    }
   ],
   "source": [
    "print(\"=== Reliability ===\")\n",
    "# pairwise comparison matrix of reliability for each alternative\n",
    "# order: yamaha, honda, suzuki, kawasaki\n",
    "PCMr= np.array([\n",
    "[1, 1/2, 3, 2],\n",
    "[2, 1, 4, 3],\n",
    "[1/3, 1/4, 1, 1/2],\n",
    "[1/2, 1/3, 2, 1]\n",
    "])\n",
    "print(f\"Pairwise comparison matrix: \\n {PCMr}\\n\")\n",
    "# normalization\n",
    "PCMr_norm = normalize_comparation(PCMr)\n",
    "print(f\"Normalized pairwise comparison matrix: \\n {PCMr_norm}\\n\")\n",
    "# calculate weight\n",
    "Wr = weight(PCMr_norm)\n",
    "print(f\"Weight: {Wr}\\n\")\n",
    "# check weight validity\n",
    "validity_check(PCMr,Wr)"
   ]
  },
  {
   "cell_type": "code",
   "execution_count": 31,
   "metadata": {},
   "outputs": [
    {
     "name": "stdout",
     "output_type": "stream",
     "text": [
      "=== Fuel Economy ===\n",
      "Pairwise comparison matrix: [[1.         0.75       1.         0.75      ]\n",
      " [1.33333333 1.         1.33333333 1.        ]\n",
      " [1.         0.75       1.         0.75      ]\n",
      " [1.33333333 1.         1.33333333 1.        ]]\n",
      "\n",
      "Normalized pairwise comparison matrix: [[0.21428571 0.21428571 0.21428571 0.21428571]\n",
      " [0.28571429 0.28571429 0.28571429 0.28571429]\n",
      " [0.21428571 0.21428571 0.21428571 0.21428571]\n",
      " [0.28571429 0.28571429 0.28571429 0.28571429]]\n",
      "\n",
      "Weight: [0.21428571 0.28571429 0.21428571 0.28571429]\n",
      "\n",
      "CV: [4. 4. 4. 4.]\n",
      "\n",
      "Eigen: 4.0\n",
      "\n",
      "RI: 0.9\n",
      "\n",
      "CI: 0.0\n",
      "\n",
      "CR: 0.0\n",
      "\n",
      "Weight is valid!\n",
      "\n"
     ]
    }
   ],
   "source": [
    "print(\"=== Fuel Economy ===\")\n",
    "# pairwise comparison matrix of fuel economy for each alternative\n",
    "# order: yamaha, honda, suzuki, kawasaki\n",
    "PCMe= np.array([\n",
    "[1, 60/80, 1, 60/80],\n",
    "[80/60, 1, 80/60, 1],\n",
    "[1, 60/80, 1, 60/80],\n",
    "[80/60, 1, 80/60, 1]\n",
    "])\n",
    "print(f\"Pairwise comparison matrix: {PCMe}\\n\")\n",
    "# normalization\n",
    "PCMe_norm = normalize_comparation(PCMe)\n",
    "print(f\"Normalized pairwise comparison matrix: {PCMe_norm}\\n\")\n",
    "# calculate weight\n",
    "We = weight(PCMe_norm)\n",
    "print(f\"Weight: {We}\\n\")\n",
    "# check weight validity\n",
    "validity_check(PCMe,We)"
   ]
  },
  {
   "cell_type": "code",
   "execution_count": 33,
   "metadata": {},
   "outputs": [
    {
     "name": "stdout",
     "output_type": "stream",
     "text": [
      "Bobot akhir: [0.23226317 0.3833129  0.11047767 0.27394626]\n",
      "\n",
      "The best alternative is Honda with final weight of 0.3833128995745455\n"
     ]
    }
   ],
   "source": [
    "# gather the weights of all criteria in one matrix\n",
    "W_total = np.array([Ws, Wr, We])\n",
    "# calculate final weight\n",
    "W_final = final_weight(W_total, Wc)\n",
    "print(f\"Bobot akhir: {W_final}\\n\")\n",
    "# display the best alternative\n",
    "max_index = np.argmax(W_final)\n",
    "print(f\"The best alternative is {A[max_index]} with final weight of {W_final[max_index]}\")"
   ]
  }
 ],
 "metadata": {
  "kernelspec": {
   "display_name": "Python 3",
   "language": "python",
   "name": "python3"
  },
  "language_info": {
   "codemirror_mode": {
    "name": "ipython",
    "version": 3
   },
   "file_extension": ".py",
   "mimetype": "text/x-python",
   "name": "python",
   "nbconvert_exporter": "python",
   "pygments_lexer": "ipython3",
   "version": "3.13.2"
  }
 },
 "nbformat": 4,
 "nbformat_minor": 2
}
